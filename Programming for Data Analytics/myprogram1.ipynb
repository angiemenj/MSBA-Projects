{
 "cells": [
  {
   "cell_type": "code",
   "execution_count": 1,
   "id": "0a1c2b6e",
   "metadata": {},
   "outputs": [
    {
     "name": "stdout",
     "output_type": "stream",
     "text": [
      "Hello, this is y, 5\n",
      "\n",
      "720\n",
      "3628800\n"
     ]
    }
   ],
   "source": [
    "def main() :\n",
    "    y = 2+3\n",
    "    print(f'Hello, this is y, {y}\\n')\n",
    "    print(factorial(6))\n",
    "    print(factorial(10))\n",
    "    \n",
    "def factorial(n):\n",
    "    if n == 0:\n",
    "        return 1\n",
    "    else:\n",
    "        return n*factorial(n-1)\n",
    "\n",
    "if __name__ == \"__main__\":\n",
    "    main()"
   ]
  },
  {
   "cell_type": "code",
   "execution_count": 2,
   "id": "00d537d6",
   "metadata": {},
   "outputs": [],
   "source": [
    "def findNumber(myNumList, n):\n",
    "    if len(myNumList)==1:\n",
    "        if myNumList[0]==n:\n",
    "            return True\n",
    "        else:\n",
    "            return False\n",
    "    else:\n",
    "        k=len(myNumList)/2\n",
    "        \n",
    "    return findNumber(myNumList[0:k]) or findNumber(myNumList[k:0])"
   ]
  },
  {
   "cell_type": "code",
   "execution_count": 3,
   "id": "c09c5f8e",
   "metadata": {},
   "outputs": [],
   "source": [
    "myNumList=[11,22,33,77]"
   ]
  },
  {
   "cell_type": "code",
   "execution_count": 4,
   "id": "db10b00e",
   "metadata": {},
   "outputs": [
    {
     "name": "stdout",
     "output_type": "stream",
     "text": [
      "1\n",
      "2\n",
      "3\n",
      "4\n",
      "5\n",
      "6\n",
      "7\n",
      "8\n",
      "9\n",
      "10\n"
     ]
    }
   ],
   "source": [
    "for _ in range(10):\n",
    "    print(_+1)"
   ]
  },
  {
   "cell_type": "code",
   "execution_count": 5,
   "id": "33a8cbf8",
   "metadata": {},
   "outputs": [],
   "source": [
    "a,_,b = [2,3,4]"
   ]
  },
  {
   "cell_type": "code",
   "execution_count": 6,
   "id": "2f14ba51",
   "metadata": {},
   "outputs": [],
   "source": [
    "a,*_,b = [2,3,23,3434,34345,[4,5]]"
   ]
  },
  {
   "cell_type": "code",
   "execution_count": 7,
   "id": "a6f6c7c8",
   "metadata": {},
   "outputs": [
    {
     "data": {
      "text/plain": [
       "2"
      ]
     },
     "execution_count": 7,
     "metadata": {},
     "output_type": "execute_result"
    }
   ],
   "source": [
    "a"
   ]
  },
  {
   "cell_type": "code",
   "execution_count": 8,
   "id": "dc7b1218",
   "metadata": {},
   "outputs": [
    {
     "data": {
      "text/plain": [
       "[4, 5]"
      ]
     },
     "execution_count": 8,
     "metadata": {},
     "output_type": "execute_result"
    }
   ],
   "source": [
    "b"
   ]
  },
  {
   "cell_type": "code",
   "execution_count": 9,
   "id": "8507b5a1",
   "metadata": {},
   "outputs": [
    {
     "data": {
      "text/plain": [
       "0.18906226238642054"
      ]
     },
     "execution_count": 9,
     "metadata": {},
     "output_type": "execute_result"
    }
   ],
   "source": [
    "import random\n",
    "random.random()"
   ]
  },
  {
   "cell_type": "code",
   "execution_count": 10,
   "id": "784ee4df",
   "metadata": {},
   "outputs": [
    {
     "data": {
      "text/plain": [
       "14"
      ]
     },
     "execution_count": 10,
     "metadata": {},
     "output_type": "execute_result"
    }
   ],
   "source": [
    "random.randint(1,100)"
   ]
  },
  {
   "cell_type": "code",
   "execution_count": 11,
   "id": "6560fd5a",
   "metadata": {},
   "outputs": [
    {
     "data": {
      "text/plain": [
       "3"
      ]
     },
     "execution_count": 11,
     "metadata": {},
     "output_type": "execute_result"
    }
   ],
   "source": [
    "random.choice([0,1,2,3,4,8])"
   ]
  }
 ],
 "metadata": {
  "kernelspec": {
   "display_name": "Python 3 (ipykernel)",
   "language": "python",
   "name": "python3"
  },
  "language_info": {
   "codemirror_mode": {
    "name": "ipython",
    "version": 3
   },
   "file_extension": ".py",
   "mimetype": "text/x-python",
   "name": "python",
   "nbconvert_exporter": "python",
   "pygments_lexer": "ipython3",
   "version": "3.9.12"
  }
 },
 "nbformat": 4,
 "nbformat_minor": 5
}
