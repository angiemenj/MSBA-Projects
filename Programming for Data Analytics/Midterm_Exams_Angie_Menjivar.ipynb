{
 "cells": [
  {
   "cell_type": "markdown",
   "metadata": {
    "id": "l8-FQ6-I1yd4"
   },
   "source": [
    "#  \n",
    "#  \n",
    "# Midterm Exam Python Programming Portion\n",
    "\n",
    "Due September 20, 2022 at 11:59PM\n",
    "    \n",
    "Name:\n",
    "    \n",
    "This portion should be completed independently, with access to any notes, books and the internet, \n",
    "and Jupyter Notebooks.  \n",
    "\n",
    "There is a bonus question for extra credit. \n",
    "\n",
    "### Problem 1 (10 point) \n",
    "\n",
    "1. Write a functon called cube, with an input number, calculating the third power (cube) of input number and return the result. \n",
    "\n",
    "2. Use the function to calculate the third power of 2 and 3."
   ]
  },
  {
   "cell_type": "code",
   "execution_count": 1,
   "metadata": {
    "id": "9DrFCv_a1yd6"
   },
   "outputs": [],
   "source": [
    "# code the fucntion here\n",
    "\n",
    "def cubePower(x):\n",
    "    cubePower = x**3\n",
    "    return x**3"
   ]
  },
  {
   "cell_type": "code",
   "execution_count": 2,
   "metadata": {
    "id": "8qRM5cY_1yd7"
   },
   "outputs": [
    {
     "data": {
      "text/plain": [
       "8"
      ]
     },
     "execution_count": 2,
     "metadata": {},
     "output_type": "execute_result"
    }
   ],
   "source": [
    "# use the function cube to calculate the cube of 2 and 3 here\n",
    "cubePower(2)"
   ]
  },
  {
   "cell_type": "code",
   "execution_count": 3,
   "metadata": {},
   "outputs": [
    {
     "data": {
      "text/plain": [
       "27"
      ]
     },
     "execution_count": 3,
     "metadata": {},
     "output_type": "execute_result"
    }
   ],
   "source": [
    "cubePower(3)"
   ]
  },
  {
   "cell_type": "markdown",
   "metadata": {
    "id": "1K8e9-eZ1yd7"
   },
   "source": [
    "### Problem 2 (10 point) \n",
    "\n",
    "1. Write a functon called segment, with an input age, segmenting the age into groups based on age.\n",
    "\n",
    "If the age is less than 13 the segment is assigned to be \"child\"\n",
    "\n",
    "Else If the age is between 13 and 19, the segment is \"teenager\"\n",
    "\n",
    "Else If the age is 20 or older but below 30, the segment is \"young adult\"\n",
    "\n",
    "Elsef If the age is 30 or older but below 62, the segment is \"adult\"\n",
    "\n",
    "Else the age is 62 or older, the segment is \"senior\"\n",
    "\n",
    "return the segment result\n",
    "\n",
    "2. Assign the segment of a group of customers, age 13, 23, 35, 62 to get the result of \"teenager\", \"young adult\", \"adult\", \"senior\"\n",
    "\n",
    "3. Use list to calculate for a list of customers with age 10, 13, 15, 18, 23, 35, 44, 62, 75, 88"
   ]
  },
  {
   "cell_type": "code",
   "execution_count": 4,
   "metadata": {
    "id": "kQ-OcG5W1yd7"
   },
   "outputs": [],
   "source": [
    "# code the function here\n",
    "def segment(age):\n",
    "    if age < 13:\n",
    "        print(\"child\")\n",
    "    elif age >= 13 and age <= 19:\n",
    "        print(\"teenager\")\n",
    "    elif age >= 20 and age < 30:\n",
    "        print(\"young adult\")\n",
    "    elif age >= 30 and age < 62:\n",
    "        print(\"adult\")\n",
    "    else:\n",
    "        print(\"senior\")"
   ]
  },
  {
   "cell_type": "code",
   "execution_count": 5,
   "metadata": {
    "id": "Us3q5Kx61yd8"
   },
   "outputs": [
    {
     "name": "stdout",
     "output_type": "stream",
     "text": [
      "teenager\n",
      "young adult\n",
      "adult\n",
      "senior\n"
     ]
    }
   ],
   "source": [
    "# use segment to calculate segment for age 13, 23, 35, 62 here\n",
    "segment(13)\n",
    "segment(23)\n",
    "segment(35)\n",
    "segment(62)"
   ]
  },
  {
   "cell_type": "code",
   "execution_count": 6,
   "metadata": {
    "id": "MsF-Byak1yd8"
   },
   "outputs": [
    {
     "name": "stdout",
     "output_type": "stream",
     "text": [
      "child\n",
      "teenager\n",
      "teenager\n",
      "teenager\n",
      "young adult\n",
      "adult\n",
      "adult\n",
      "senior\n",
      "senior\n",
      "senior\n"
     ]
    }
   ],
   "source": [
    "# create a list and calculate segment for each age of the list of customers and \n",
    "# with age 10, 13, 15, 18, 23, 35, 44, 62, 75, 88\n",
    "ageList = [10,13,15,18,23,35,44,62,75,88]\n",
    "for age in ageList:\n",
    "    segment(age)"
   ]
  },
  {
   "cell_type": "markdown",
   "metadata": {
    "id": "s9omfpLp1yd8"
   },
   "source": [
    "### Problem 3 (10 point) \n",
    "\n",
    "1. The last section of Steve Job's Stanford 2005 Graduation Address is given.\n",
    "\n",
    "2. Write code that would split the text into word list in lower case word list.    \n",
    "\n",
    "3. Write code to remove stop words, and then count the words.  \n",
    "\n",
    "4. Print the top 20 words by count.\n"
   ]
  },
  {
   "cell_type": "code",
   "execution_count": 7,
   "metadata": {
    "id": "eQIeKpV11yd8"
   },
   "outputs": [],
   "source": [
    "steve_job = \"When I was young, there was an amazing publication called The Whole Earth Catalog, \\\n",
    "which was one of the bibles of my generation. It was created by a fellow named Stewart Brand not \\\n",
    "far from here in Menlo Park, and he brought it to life with his poetic touch. This was in the late 1960s, \\\n",
    "before personal computers and desktop publishing, so it was all made with typewriters, \\\n",
    "scissors and Polaroid cameras. It was sort of like Google in paperback form, 35 years before Google \\\n",
    "came along: It was idealistic, and overflowing with neat tools and great notions.  Stewart and his team \\\n",
    "put out several issues of The Whole Earth Catalog, and then when it had run its course, they put out a \\\n",
    "final issue. It was the mid-1970s, and I was your age. On the back cover of their final issue was a \\\n",
    "photograph of an early morning country road, the kind you might find yourself hitchhiking on if you \\\n",
    "were so adventurous. Beneath it were the words: Stay Hungry. Stay Foolish. It was their farewell \\\n",
    "message as they signed off. Stay Hungry. Stay Foolish. And I have always wished that for myself. And \\\n",
    "now, as you graduate to begin anew, I wish that for you.\"\n"
   ]
  },
  {
   "cell_type": "code",
   "execution_count": 8,
   "metadata": {
    "id": "IZm_-9BB1yd8",
    "scrolled": true
   },
   "outputs": [
    {
     "data": {
      "text/plain": [
       "'When I was young, there was an amazing publication called The Whole Earth Catalog, which was one of the bibles of my generation. It was created by a fellow named Stewart Brand not far from here in Menlo Park, and he brought it to life with his poetic touch. This was in the late 1960s, before personal computers and desktop publishing, so it was all made with typewriters, scissors and Polaroid cameras. It was sort of like Google in paperback form, 35 years before Google came along: It was idealistic, and overflowing with neat tools and great notions.  Stewart and his team put out several issues of The Whole Earth Catalog, and then when it had run its course, they put out a final issue. It was the mid-1970s, and I was your age. On the back cover of their final issue was a photograph of an early morning country road, the kind you might find yourself hitchhiking on if you were so adventurous. Beneath it were the words: Stay Hungry. Stay Foolish. It was their farewell message as they signed off. Stay Hungry. Stay Foolish. And I have always wished that for myself. And now, as you graduate to begin anew, I wish that for you.'"
      ]
     },
     "execution_count": 8,
     "metadata": {},
     "output_type": "execute_result"
    }
   ],
   "source": [
    "steve_job"
   ]
  },
  {
   "cell_type": "code",
   "execution_count": 9,
   "metadata": {
    "id": "oUqjDk551yd8"
   },
   "outputs": [],
   "source": [
    "# write code to split the string into a list of words\n",
    "def process(text):\n",
    "    import re\n",
    "    allwords = []\n",
    "    allwords.extend(re.split(\"\\,|\\s|\\?|\\&|\\\"|\\-\",text.strip().lower().replace(\".\",\"\")))\n",
    "    return allwords"
   ]
  },
  {
   "cell_type": "code",
   "execution_count": 10,
   "metadata": {},
   "outputs": [],
   "source": [
    "allwords = process(steve_job)"
   ]
  },
  {
   "cell_type": "code",
   "execution_count": 11,
   "metadata": {},
   "outputs": [
    {
     "data": {
      "text/plain": [
       "['when',\n",
       " 'i',\n",
       " 'was',\n",
       " 'young',\n",
       " '',\n",
       " 'there',\n",
       " 'was',\n",
       " 'an',\n",
       " 'amazing',\n",
       " 'publication',\n",
       " 'called',\n",
       " 'the',\n",
       " 'whole',\n",
       " 'earth',\n",
       " 'catalog',\n",
       " '',\n",
       " 'which',\n",
       " 'was',\n",
       " 'one',\n",
       " 'of',\n",
       " 'the',\n",
       " 'bibles',\n",
       " 'of',\n",
       " 'my',\n",
       " 'generation',\n",
       " 'it',\n",
       " 'was',\n",
       " 'created',\n",
       " 'by',\n",
       " 'a',\n",
       " 'fellow',\n",
       " 'named',\n",
       " 'stewart',\n",
       " 'brand',\n",
       " 'not',\n",
       " 'far',\n",
       " 'from',\n",
       " 'here',\n",
       " 'in',\n",
       " 'menlo',\n",
       " 'park',\n",
       " '',\n",
       " 'and',\n",
       " 'he',\n",
       " 'brought',\n",
       " 'it',\n",
       " 'to',\n",
       " 'life',\n",
       " 'with',\n",
       " 'his',\n",
       " 'poetic',\n",
       " 'touch',\n",
       " 'this',\n",
       " 'was',\n",
       " 'in',\n",
       " 'the',\n",
       " 'late',\n",
       " '1960s',\n",
       " '',\n",
       " 'before',\n",
       " 'personal',\n",
       " 'computers',\n",
       " 'and',\n",
       " 'desktop',\n",
       " 'publishing',\n",
       " '',\n",
       " 'so',\n",
       " 'it',\n",
       " 'was',\n",
       " 'all',\n",
       " 'made',\n",
       " 'with',\n",
       " 'typewriters',\n",
       " '',\n",
       " 'scissors',\n",
       " 'and',\n",
       " 'polaroid',\n",
       " 'cameras',\n",
       " 'it',\n",
       " 'was',\n",
       " 'sort',\n",
       " 'of',\n",
       " 'like',\n",
       " 'google',\n",
       " 'in',\n",
       " 'paperback',\n",
       " 'form',\n",
       " '',\n",
       " '35',\n",
       " 'years',\n",
       " 'before',\n",
       " 'google',\n",
       " 'came',\n",
       " 'along:',\n",
       " 'it',\n",
       " 'was',\n",
       " 'idealistic',\n",
       " '',\n",
       " 'and',\n",
       " 'overflowing',\n",
       " 'with',\n",
       " 'neat',\n",
       " 'tools',\n",
       " 'and',\n",
       " 'great',\n",
       " 'notions',\n",
       " '',\n",
       " 'stewart',\n",
       " 'and',\n",
       " 'his',\n",
       " 'team',\n",
       " 'put',\n",
       " 'out',\n",
       " 'several',\n",
       " 'issues',\n",
       " 'of',\n",
       " 'the',\n",
       " 'whole',\n",
       " 'earth',\n",
       " 'catalog',\n",
       " '',\n",
       " 'and',\n",
       " 'then',\n",
       " 'when',\n",
       " 'it',\n",
       " 'had',\n",
       " 'run',\n",
       " 'its',\n",
       " 'course',\n",
       " '',\n",
       " 'they',\n",
       " 'put',\n",
       " 'out',\n",
       " 'a',\n",
       " 'final',\n",
       " 'issue',\n",
       " 'it',\n",
       " 'was',\n",
       " 'the',\n",
       " 'mid',\n",
       " '1970s',\n",
       " '',\n",
       " 'and',\n",
       " 'i',\n",
       " 'was',\n",
       " 'your',\n",
       " 'age',\n",
       " 'on',\n",
       " 'the',\n",
       " 'back',\n",
       " 'cover',\n",
       " 'of',\n",
       " 'their',\n",
       " 'final',\n",
       " 'issue',\n",
       " 'was',\n",
       " 'a',\n",
       " 'photograph',\n",
       " 'of',\n",
       " 'an',\n",
       " 'early',\n",
       " 'morning',\n",
       " 'country',\n",
       " 'road',\n",
       " '',\n",
       " 'the',\n",
       " 'kind',\n",
       " 'you',\n",
       " 'might',\n",
       " 'find',\n",
       " 'yourself',\n",
       " 'hitchhiking',\n",
       " 'on',\n",
       " 'if',\n",
       " 'you',\n",
       " 'were',\n",
       " 'so',\n",
       " 'adventurous',\n",
       " 'beneath',\n",
       " 'it',\n",
       " 'were',\n",
       " 'the',\n",
       " 'words:',\n",
       " 'stay',\n",
       " 'hungry',\n",
       " 'stay',\n",
       " 'foolish',\n",
       " 'it',\n",
       " 'was',\n",
       " 'their',\n",
       " 'farewell',\n",
       " 'message',\n",
       " 'as',\n",
       " 'they',\n",
       " 'signed',\n",
       " 'off',\n",
       " 'stay',\n",
       " 'hungry',\n",
       " 'stay',\n",
       " 'foolish',\n",
       " 'and',\n",
       " 'i',\n",
       " 'have',\n",
       " 'always',\n",
       " 'wished',\n",
       " 'that',\n",
       " 'for',\n",
       " 'myself',\n",
       " 'and',\n",
       " 'now',\n",
       " '',\n",
       " 'as',\n",
       " 'you',\n",
       " 'graduate',\n",
       " 'to',\n",
       " 'begin',\n",
       " 'anew',\n",
       " '',\n",
       " 'i',\n",
       " 'wish',\n",
       " 'that',\n",
       " 'for',\n",
       " 'you']"
      ]
     },
     "execution_count": 11,
     "metadata": {},
     "output_type": "execute_result"
    }
   ],
   "source": [
    "allwords"
   ]
  },
  {
   "cell_type": "code",
   "execution_count": 12,
   "metadata": {
    "id": "nFhWL1cM1yd9"
   },
   "outputs": [],
   "source": [
    "stopwords = {\"a\", \"about\", \"above\", \"above\", \"across\", \"after\", \"afterwards\", \"again\", \"against\", \"all\",\\\n",
    "             \"almost\", \"alone\", \"along\", \"already\", \"also\",\"although\",\"always\",\"am\",\"among\", \"amongst\", \\\n",
    "             \"amoungst\", \"amount\",  \"an\", \"and\", \"another\", \"any\",\"anyhow\",\"anyone\",\"anything\",\"anyway\", \\\n",
    "             \"anywhere\", \"are\", \"around\", \"as\",  \"at\", \"back\",\"be\",\"became\", \"because\",\"become\",\"becomes\", \\\n",
    "             \"becoming\", \"been\", \"before\", \"beforehand\", \"behind\", \"being\", \"below\", \"beside\", \"besides\", \\\n",
    "             \"between\", \"beyond\", \"bill\", \"both\", \"bottom\",\"but\", \"by\", \"call\", \"can\", \"cannot\", \"cant\", \\\n",
    "             \"co\", \"con\", \"could\", \"couldnt\", \"cry\", \"de\", \"describe\", \"detail\", \"do\", \"done\", \"down\", \"due\", \\\n",
    "             \"during\", \"each\", \"eg\", \"eight\", \"either\", \"eleven\",\"else\", \"elsewhere\", \"empty\", \"enough\", \\\n",
    "             \"etc\", \"even\", \"ever\", \"every\", \"everyone\", \"everything\", \"everywhere\", \"except\", \"few\", \\\n",
    "             \"fifteen\", \"fify\", \"fill\", \"find\", \"fire\", \"first\", \"five\", \"for\", \"former\", \"formerly\", \\\n",
    "             \"forty\", \"found\", \"four\", \"from\", \"front\", \"full\", \"further\", \"get\", \"give\", \"go\", \"had\", \\\n",
    "             \"has\", \"hasnt\", \"have\", \"he\", \"hence\", \"her\", \"here\", \"hereafter\", \"hereby\", \"herein\", \\\n",
    "             \"hereupon\", \"hers\", \"herself\", \"him\", \"himself\", \"his\", \"how\", \"however\", \"hundred\", \"ie\", \\\n",
    "             \"if\", \"in\", \"inc\", \"indeed\", \"interest\", \"into\", \"is\", \"it\", \"its\", \"itself\", \"keep\", \"last\", \\\n",
    "             \"latter\", \"latterly\", \"least\", \"less\", \"ltd\", \"made\", \"many\", \"may\", \"me\", \"meanwhile\", \"might\", \\\n",
    "             \"mill\", \"mine\", \"more\", \"moreover\", \"most\", \"mostly\", \"move\", \"much\", \"must\", \"my\", \"myself\", \\\n",
    "             \"name\", \"namely\", \"neither\", \"never\", \"nevertheless\", \"next\", \"nine\", \"no\", \"nobody\", \"none\", \\\n",
    "             \"noone\", \"nor\", \"not\", \"nothing\", \"now\", \"nowhere\", \"of\", \"off\", \"often\", \"on\", \"once\", \"one\", \\\n",
    "             \"only\", \"onto\", \"or\", \"other\", \"others\", \"otherwise\", \"our\", \"ours\", \"ourselves\", \"out\", \"over\", \\\n",
    "             \"own\",\"part\", \"per\", \"perhaps\", \"please\", \"put\", \"rather\", \"re\", \"same\", \"see\", \"seem\", \"seemed\", \\\n",
    "             \"seeming\", \"seems\", \"serious\", \"several\", \"she\", \"should\", \"show\", \"side\", \"since\", \"sincere\", \\\n",
    "             \"six\", \"sixty\", \"so\", \"some\", \"somehow\", \"someone\", \"something\", \"sometime\", \"sometimes\", \\\n",
    "             \"somewhere\", \"still\", \"such\", \"system\", \"take\", \"ten\", \"than\", \"that\", \"the\", \"their\", \"them\",\\\n",
    "             \"themselves\", \"then\", \"thence\", \"there\", \"thereafter\", \"thereby\", \"therefore\", \"therein\", \\\n",
    "             \"thereupon\", \"these\", \"they\", \"thick\", \"thin\", \"third\", \"this\", \"those\", \"though\", \"three\", \\\n",
    "             \"through\", \"throughout\", \"thru\", \"thus\", \"to\", \"together\", \"too\", \"top\", \"toward\", \"towards\",\\\n",
    "             \"twelve\", \"twenty\", \"two\", \"un\", \"under\", \"until\", \"up\", \"upon\", \"us\", \"very\", \"via\", \"was\", \\\n",
    "             \"we\", \"well\", \"were\", \"what\", \"whatever\", \"when\", \"whence\", \"whenever\", \"where\", \"whereafter\", \\\n",
    "             \"whereas\", \"whereby\", \"wherein\", \"whereupon\", \"wherever\", \"whether\", \"which\", \"while\", \"whither\",\\\n",
    "             \"who\", \"whoever\", \"whole\", \"whom\", \"whose\", \"why\", \"will\", \"with\", \"within\", \"without\", \"would\", \\\n",
    "             \"yet\", \"you\", \"your\", \"yours\", \"yourself\", \"yourselves\", \"the\"}"
   ]
  },
  {
   "cell_type": "code",
   "execution_count": 13,
   "metadata": {
    "id": "gDgmWuXL1yd9"
   },
   "outputs": [
    {
     "name": "stdout",
     "output_type": "stream",
     "text": [
      "i 4\n",
      "stay 4\n",
      "earth 2\n",
      "catalog 2\n",
      "stewart 2\n",
      "google 2\n",
      "final 2\n",
      "issue 2\n",
      "hungry 2\n",
      "foolish 2\n",
      "young 1\n",
      "amazing 1\n",
      "publication 1\n",
      "called 1\n",
      "bibles 1\n",
      "generation 1\n",
      "created 1\n",
      "fellow 1\n",
      "named 1\n",
      "brand 1\n"
     ]
    }
   ],
   "source": [
    "# write code to count the words, after removing the stop words, and sort them in descending order, \n",
    "# and then print out the top 20 words\n",
    "countWords = {}\n",
    "def countingWords():\n",
    "    global allwords\n",
    "    global countwords\n",
    "    global stopwords\n",
    "    for w in allwords:\n",
    "        if w not in stopwords and w != '':\n",
    "            if w not in countWords:\n",
    "                countWords[w]=1\n",
    "            else:\n",
    "                count = countWords[w]\n",
    "                countWords[w] = count + 1\n",
    "\n",
    "def sortWords(count):\n",
    "    sort = sorted(countWords, key=lambda x: countWords[x], reverse=True)\n",
    "    for i in range(min(len(sort),count)):\n",
    "        w = sort[i]\n",
    "        print(w,countWords[w])\n",
    "countingWords()\n",
    "sortWords(20)"
   ]
  },
  {
   "cell_type": "markdown",
   "metadata": {
    "id": "9QDYc--G1yd9"
   },
   "source": [
    "### Problem 4 (4 point)\n",
    "\n",
    "1. You are given a class Dog, and a file dogs.txt.  Read the data from dogs.txt.  \n",
    "\n",
    "2. Split each line using '\\t' into a list of the fields.  Import the file and populate the class Dog.\n",
    "\n",
    "3. Write code to calculate the average weight of the dogs in the data set dogs.txt\n"
   ]
  },
  {
   "cell_type": "code",
   "execution_count": 14,
   "metadata": {
    "id": "A09dkGaM1yd9"
   },
   "outputs": [],
   "source": [
    "class Dog:\n",
    "    def __init__(self,name, species, age, weight, owner):\n",
    "        self.name = name\n",
    "        self.species = species\n",
    "        self.age = age\n",
    "        self.weight = weight\n",
    "        self.owner = owner\n",
    "    def setAge(self, age):\n",
    "        self.age = age\n",
    "    def setWeight(self, weight):\n",
    "        self.weight = weight\n",
    "    def getName(self):\n",
    "        return self.name\n",
    "    def getSpecies(self):\n",
    "        return self.species\n",
    "    def getOwner(self):\n",
    "        return self.owner\n",
    "    def getAge(self):\n",
    "        return self.age\n",
    "    def getWeight(self):\n",
    "        return self.weight"
   ]
  },
  {
   "cell_type": "code",
   "execution_count": 15,
   "metadata": {
    "id": "5XP9dNau1yd-"
   },
   "outputs": [],
   "source": [
    "dog1 = Dog(\"bijou\", \"poodle\", 4, 50, \"pat\")"
   ]
  },
  {
   "cell_type": "code",
   "execution_count": 16,
   "metadata": {
    "id": "63tNoknP1yd-"
   },
   "outputs": [
    {
     "data": {
      "text/plain": [
       "50"
      ]
     },
     "execution_count": 16,
     "metadata": {},
     "output_type": "execute_result"
    }
   ],
   "source": [
    "dog1.getWeight()\n"
   ]
  },
  {
   "cell_type": "code",
   "execution_count": 17,
   "metadata": {
    "id": "i58cDfqc1yd-"
   },
   "outputs": [
    {
     "data": {
      "text/plain": [
       "'poodle'"
      ]
     },
     "execution_count": 17,
     "metadata": {},
     "output_type": "execute_result"
    }
   ],
   "source": [
    "dog1.getSpecies()\n"
   ]
  },
  {
   "cell_type": "code",
   "execution_count": 18,
   "metadata": {
    "id": "UltF5OZ-1yd-"
   },
   "outputs": [
    {
     "data": {
      "text/plain": [
       "4"
      ]
     },
     "execution_count": 18,
     "metadata": {},
     "output_type": "execute_result"
    }
   ],
   "source": [
    "dog1.getAge()\n"
   ]
  },
  {
   "cell_type": "code",
   "execution_count": 19,
   "metadata": {
    "id": "NuaHBZgQ1yd_",
    "scrolled": false
   },
   "outputs": [
    {
     "data": {
      "text/plain": [
       "[['ray', 'labrador', '10', '90', 'lucy\\n'],\n",
       " ['jammie', 'welsh corgi', '5', '20', 'bob\\n'],\n",
       " ['bijou', 'poodle', '4', '30', 'pat\\n'],\n",
       " ['pip', 'korean jindo', '7', '40', 'gilbert\\n'],\n",
       " ['huluwa', 'whippet', '2', '30', 'xiao']]"
      ]
     },
     "execution_count": 19,
     "metadata": {},
     "output_type": "execute_result"
    }
   ],
   "source": [
    "# write code here to populate the Dog class with data in dogs.txt\n",
    "# Use a for loop and each row is a list.  Skip the first row which has the field names.\n",
    "# Use index for each element as input of the Dog constructor.\n",
    "# For example, element[0] is the first element, element[1] is the second element, etc.\n",
    "import re\n",
    "def load_dog_data():\n",
    "    filehdle = open(\"\\\\Users\\Angie Menjivar\\Downloads\\dogs.txt\", \"r\")\n",
    "    next(filehdle)\n",
    "    mydataset = []\n",
    "    for line in filehdle:\n",
    "        mydataset.append(re.split(\"\\t\", line))\n",
    "    return mydataset\n",
    "load_dog_data()"
   ]
  },
  {
   "cell_type": "code",
   "execution_count": 20,
   "metadata": {},
   "outputs": [],
   "source": [
    "mydataset = load_dog_data()"
   ]
  },
  {
   "cell_type": "code",
   "execution_count": 21,
   "metadata": {},
   "outputs": [
    {
     "name": "stdout",
     "output_type": "stream",
     "text": [
      "4\n"
     ]
    }
   ],
   "source": [
    "dogDict = {}\n",
    "for i in range(0, len(mydataset)-1):\n",
    "    dogdata = mydataset[i]\n",
    "    dogDict[(dogdata[0])] = Dog((dogdata[0]), dogdata[1], dogdata[2], dogdata[3], dogdata[4])\n",
    "print(len(dogDict))"
   ]
  },
  {
   "cell_type": "code",
   "execution_count": 22,
   "metadata": {
    "id": "kyYJpoZL1yd_"
   },
   "outputs": [],
   "source": [
    "# myfilepointer = open(\"\\\\Users\\Angie Menjivar\\Downloads\\dogs.txt\") # modify for correct path here for your machine and file location"
   ]
  },
  {
   "cell_type": "code",
   "execution_count": 23,
   "metadata": {
    "id": "tCOA7OGt1yd_"
   },
   "outputs": [],
   "source": [
    "# Write code here to calculate the average weight of the dogs in the data set dogs.txt\n",
    "def avg():\n",
    "    weight = [90,20,30,40,30]\n",
    "    average = sum(weight)/len(weight)\n",
    "    return average"
   ]
  },
  {
   "cell_type": "code",
   "execution_count": 24,
   "metadata": {},
   "outputs": [
    {
     "data": {
      "text/plain": [
       "42.0"
      ]
     },
     "execution_count": 24,
     "metadata": {},
     "output_type": "execute_result"
    }
   ],
   "source": [
    "avg()"
   ]
  },
  {
   "cell_type": "markdown",
   "metadata": {
    "id": "o5sHMsYQ1yd_"
   },
   "source": [
    "### Problem 5 (6 point)\n",
    "\n",
    "1. Write a class Car with a constructure \\_\\_init\\_\\_(self, brand, model, horsepower, price).  Wrtie methods to get brand, get model, get horsepower, get price.  Write a method to set the price.  Write a method to set the inventory."
   ]
  },
  {
   "cell_type": "code",
   "execution_count": 25,
   "metadata": {
    "id": "7pUERyip1yd_"
   },
   "outputs": [],
   "source": [
    "# Write the Car class code here\n",
    "class Car:\n",
    "    def __init__(self,brand,model,horsepower,price):\n",
    "        self.brand = brand\n",
    "        self.model = model\n",
    "        self.horsepower = horsepower\n",
    "        self.price = price    \n",
    "            \n",
    "    def getBrand(self):\n",
    "        return self.brand\n",
    "\n",
    "    def getHorsepower(self):\n",
    "        return self.horsepower\n",
    "        \n",
    "    def getPrice(self):\n",
    "        return self.price\n",
    "        \n",
    "    def setPrice(self,carPrice):\n",
    "        self.price = carPrice\n",
    "        \n",
    "    def setInventory(inventory):\n",
    "        invent = inventory"
   ]
  },
  {
   "cell_type": "code",
   "execution_count": 26,
   "metadata": {
    "id": "kRc7o9pk1yd_"
   },
   "outputs": [
    {
     "name": "stdout",
     "output_type": "stream",
     "text": [
      "Accura\n",
      "290\n",
      "42000\n"
     ]
    }
   ],
   "source": [
    "car1 = Car(\"Accura\", \"MDX\", 290, 42000)  # This code should run \n",
    "print(car1.getBrand())\n",
    "print(car1.getHorsepower())\n",
    "print(car1.getPrice())"
   ]
  },
  {
   "cell_type": "code",
   "execution_count": 27,
   "metadata": {
    "id": "Fl4evbEe1yeA"
   },
   "outputs": [
    {
     "name": "stdout",
     "output_type": "stream",
     "text": [
      "Lexus\n",
      "215\n",
      "38000\n"
     ]
    }
   ],
   "source": [
    "car2 = Car(\"Lexus\", \"ES300\", 215, 38000)  # This code should run \n",
    "print(car2.getBrand())\n",
    "print(car2.getHorsepower())\n",
    "print(car2.getPrice())\n"
   ]
  },
  {
   "cell_type": "markdown",
   "metadata": {
    "id": "1R6H05Jg1yeA"
   },
   "source": [
    "### Problem 6 Bonus Credit (10 point)\n",
    "\n",
    "Write a dictionary for a group of patients by their ids and their cholesterol level.\n",
    "\n",
    "patient1 id = 1, cholesterol level 230;\n",
    "patient2 id = 2, cholesterol level 330;\n",
    "patient3 id = 3, cholesterol level 380;\n",
    "patient4 id = 4, cholesterol level 210;\n",
    "patient5 id = 5, cholesterol level 295;\n",
    "patient6 id = 6, cholesterol level 305;\n",
    "\n",
    "Put the data in the dictionary with ids as keys and cholestoral levels as values.\n",
    "\n",
    "Use a for loop to iterate over the patients and calculate the average cholesterol level for the group.\n"
   ]
  },
  {
   "cell_type": "code",
   "execution_count": 28,
   "metadata": {
    "id": "jAqPn5fU1yeA"
   },
   "outputs": [
    {
     "name": "stdout",
     "output_type": "stream",
     "text": [
      "{1: 230, 2: 330, 3: 380, 4: 210, 5: 295, 6: 305}\n"
     ]
    }
   ],
   "source": [
    "# write code here to construct the dictionary\n",
    "patientDict = {1:230, 2:330, 3:380, 4:210, 5:295, 6:305}\n",
    "print(patientDict)"
   ]
  },
  {
   "cell_type": "code",
   "execution_count": 29,
   "metadata": {},
   "outputs": [
    {
     "data": {
      "text/plain": [
       "dict_items([(1, 230), (2, 330), (3, 380), (4, 210), (5, 295), (6, 305)])"
      ]
     },
     "execution_count": 29,
     "metadata": {},
     "output_type": "execute_result"
    }
   ],
   "source": [
    "patientDict.items()"
   ]
  },
  {
   "cell_type": "code",
   "execution_count": 30,
   "metadata": {},
   "outputs": [],
   "source": [
    "myIter=iter(patientDict.items())"
   ]
  },
  {
   "cell_type": "code",
   "execution_count": 31,
   "metadata": {},
   "outputs": [
    {
     "name": "stdout",
     "output_type": "stream",
     "text": [
      "1 (1, 230)\n",
      "2 (2, 330)\n",
      "3 (3, 380)\n",
      "4 (4, 210)\n",
      "5 (5, 295)\n",
      "6 (6, 305)\n"
     ]
    }
   ],
   "source": [
    "# Write code here to iterate\n",
    "for patient in patientDict:\n",
    "    print(patient, next(myIter))"
   ]
  },
  {
   "cell_type": "code",
   "execution_count": 32,
   "metadata": {
    "id": "33Yf9Aed1yeA"
   },
   "outputs": [
    {
     "data": {
      "text/plain": [
       "291.6666666666667"
      ]
     },
     "execution_count": 32,
     "metadata": {},
     "output_type": "execute_result"
    }
   ],
   "source": [
    "# Calculate the average cholestorel level\n",
    "sum(patientDict.values())/float(len(patientDict))"
   ]
  },
  {
   "cell_type": "markdown",
   "metadata": {
    "id": "Eg9jKx7D1yeA"
   },
   "source": [
    "### Problem 7 Bonus Credit (10 point)\n",
    "\n",
    "The code below has some bugs, correct them so that it runs correctly.\n"
   ]
  },
  {
   "cell_type": "code",
   "execution_count": 33,
   "metadata": {
    "id": "scyJNXK11yeA"
   },
   "outputs": [],
   "source": [
    "customers = [\"Leo\",\"Ming\",\"Lars\",\"April\",\"Ali\",\"Rich\"]\n",
    "\n",
    "def findName(customer, customer1):\n",
    "    global customers\n",
    "    for customer in customers:\n",
    "        if customer == customer1:\n",
    "            return True\n",
    "    return False   "
   ]
  },
  {
   "cell_type": "code",
   "execution_count": 34,
   "metadata": {
    "id": "rX4TEorv1yeB"
   },
   "outputs": [
    {
     "data": {
      "text/plain": [
       "True"
      ]
     },
     "execution_count": 34,
     "metadata": {},
     "output_type": "execute_result"
    }
   ],
   "source": [
    "findName(customers, \"Lars\")"
   ]
  },
  {
   "cell_type": "code",
   "execution_count": 35,
   "metadata": {
    "id": "7Kf_WgDo1yeB"
   },
   "outputs": [
    {
     "data": {
      "text/plain": [
       "False"
      ]
     },
     "execution_count": 35,
     "metadata": {},
     "output_type": "execute_result"
    }
   ],
   "source": [
    "findName(customers, \"Liz\")"
   ]
  },
  {
   "cell_type": "code",
   "execution_count": 36,
   "metadata": {},
   "outputs": [
    {
     "data": {
      "text/plain": [
       "True"
      ]
     },
     "execution_count": 36,
     "metadata": {},
     "output_type": "execute_result"
    }
   ],
   "source": [
    "findName(customers, \"Ming\")"
   ]
  },
  {
   "cell_type": "code",
   "execution_count": 37,
   "metadata": {},
   "outputs": [
    {
     "data": {
      "text/plain": [
       "False"
      ]
     },
     "execution_count": 37,
     "metadata": {},
     "output_type": "execute_result"
    }
   ],
   "source": [
    "findName(customers, \"Angie\")"
   ]
  }
 ],
 "metadata": {
  "colab": {
   "provenance": []
  },
  "kernelspec": {
   "display_name": "Python 3 (ipykernel)",
   "language": "python",
   "name": "python3"
  },
  "language_info": {
   "codemirror_mode": {
    "name": "ipython",
    "version": 3
   },
   "file_extension": ".py",
   "mimetype": "text/x-python",
   "name": "python",
   "nbconvert_exporter": "python",
   "pygments_lexer": "ipython3",
   "version": "3.9.12"
  }
 },
 "nbformat": 4,
 "nbformat_minor": 1
}
